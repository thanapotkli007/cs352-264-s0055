{
  "nbformat": 4,
  "nbformat_minor": 0,
  "metadata": {
    "colab": {
      "name": " PythonBasic2_0055",
      "provenance": [],
      "authorship_tag": "ABX9TyNDu8i4ITG+M767S9VvBFZn",
      "include_colab_link": true
    },
    "kernelspec": {
      "name": "python3",
      "display_name": "Python 3"
    },
    "language_info": {
      "name": "python"
    }
  },
  "cells": [
    {
      "cell_type": "markdown",
      "metadata": {
        "id": "view-in-github",
        "colab_type": "text"
      },
      "source": [
        "<a href=\"https://colab.research.google.com/github/thanapotkli007/cs352-264-s0055/blob/main/PythonBasic2_0055.ipynb\" target=\"_parent\"><img src=\"https://colab.research.google.com/assets/colab-badge.svg\" alt=\"Open In Colab\"/></a>"
      ]
    },
    {
      "cell_type": "markdown",
      "source": [
        "# Python Data Structures"
      ],
      "metadata": {
        "id": "FL8f0b7Wr4d9"
      }
    },
    {
      "cell_type": "markdown",
      "source": [
        "### List"
      ],
      "metadata": {
        "id": "64AGM0m4sES1"
      }
    },
    {
      "cell_type": "code",
      "execution_count": null,
      "metadata": {
        "id": "Zpe2QTJFuPXK",
        "colab": {
          "base_uri": "https://localhost:8080/"
        },
        "outputId": "97ddd631-8e76-452f-e47e-4eaa8cf6f62a"
      },
      "outputs": [
        {
          "output_type": "execute_result",
          "data": {
            "text/plain": [
              "[3, 4, 1, 4, 5, 2, 7]"
            ]
          },
          "metadata": {},
          "execution_count": 1
        }
      ],
      "source": [
        "my_first_list = [3,4,1,4,5,2,7]\n",
        "my_first_list"
      ]
    },
    {
      "cell_type": "code",
      "source": [
        "dog = ['Freddie',9,True,1.1,2001] #can store differrent variable type in list\n",
        "dog "
      ],
      "metadata": {
        "colab": {
          "base_uri": "https://localhost:8080/"
        },
        "id": "yl2E3xhssg-N",
        "outputId": "1c1469f6-212f-46fa-ccbe-c0edfc3fc41e"
      },
      "execution_count": null,
      "outputs": [
        {
          "output_type": "execute_result",
          "data": {
            "text/plain": [
              "['Freddie', 9, True, 1.1, 2001]"
            ]
          },
          "metadata": {},
          "execution_count": 2
        }
      ]
    },
    {
      "cell_type": "code",
      "source": [
        "#can store list in list\n",
        "dog = ['Freddie',9,True,1.1,2001, ['bone','little ball']]\n",
        "sample_matrix = [[1,4,9],[1,8,27],[1,16,81]]"
      ],
      "metadata": {
        "id": "VUewXF6htaNi"
      },
      "execution_count": null,
      "outputs": []
    },
    {
      "cell_type": "code",
      "source": [
        "dog"
      ],
      "metadata": {
        "colab": {
          "base_uri": "https://localhost:8080/"
        },
        "id": "gLxVqrVYuCAz",
        "outputId": "2cc30304-6d48-4078-d2a9-fc26c4bff89b"
      },
      "execution_count": null,
      "outputs": [
        {
          "output_type": "execute_result",
          "data": {
            "text/plain": [
              "['Freddie', 9, True, 1.1, 2001, ['bone', 'little ball']]"
            ]
          },
          "metadata": {},
          "execution_count": 5
        }
      ]
    },
    {
      "cell_type": "code",
      "source": [
        "sample_matrix"
      ],
      "metadata": {
        "colab": {
          "base_uri": "https://localhost:8080/"
        },
        "id": "uezgH813uFju",
        "outputId": "ae4a5de2-2d83-4f54-842c-d6a6f5d9d21f"
      },
      "execution_count": null,
      "outputs": [
        {
          "output_type": "execute_result",
          "data": {
            "text/plain": [
              "[[1, 4, 9], [1, 8, 27], [1, 16, 81]]"
            ]
          },
          "metadata": {},
          "execution_count": 6
        }
      ]
    },
    {
      "cell_type": "markdown",
      "source": [
        "Access specific element"
      ],
      "metadata": {
        "id": "UxNknA-VsCAd"
      }
    },
    {
      "cell_type": "code",
      "source": [
        "#access word 'bone'\n",
        "dog[5][0]"
      ],
      "metadata": {
        "colab": {
          "base_uri": "https://localhost:8080/",
          "height": 35
        },
        "id": "qRVIjMVBvIfW",
        "outputId": "9d859740-7e3d-4a8d-b720-dc99b36c9db7"
      },
      "execution_count": null,
      "outputs": [
        {
          "output_type": "execute_result",
          "data": {
            "application/vnd.google.colaboratory.intrinsic+json": {
              "type": "string"
            },
            "text/plain": [
              "'bone'"
            ]
          },
          "metadata": {},
          "execution_count": 10
        }
      ]
    },
    {
      "cell_type": "markdown",
      "source": [
        "Access multiple element"
      ],
      "metadata": {
        "id": "hpXwD3a3vti_"
      }
    },
    {
      "cell_type": "code",
      "source": [
        "dog[1:4] #select location 1-3"
      ],
      "metadata": {
        "colab": {
          "base_uri": "https://localhost:8080/"
        },
        "id": "9bRBMkMtv-ii",
        "outputId": "c2805299-079f-4535-bdd7-534138fdf53f"
      },
      "execution_count": null,
      "outputs": [
        {
          "output_type": "execute_result",
          "data": {
            "text/plain": [
              "[9, True, 1.1]"
            ]
          },
          "metadata": {},
          "execution_count": 14
        }
      ]
    },
    {
      "cell_type": "markdown",
      "source": [
        "### Tuples\n",
        "almost the same list few small different\n",
        "immutable can not add,remove and change items\n",
        "\n",
        "List is mutable"
      ],
      "metadata": {
        "id": "pe0akHTvwj9l"
      }
    },
    {
      "cell_type": "code",
      "source": [
        "book_tuple = ('A Game of Thrones','Digital Fortress','Practical Statistics for Data Scientists')"
      ],
      "metadata": {
        "id": "tM7l5w6Qw6CD"
      },
      "execution_count": null,
      "outputs": []
    },
    {
      "cell_type": "code",
      "source": [
        "book_tuple[1]"
      ],
      "metadata": {
        "colab": {
          "base_uri": "https://localhost:8080/",
          "height": 35
        },
        "id": "VGcs3ecpzfQV",
        "outputId": "fdeb993f-a3aa-44ac-9724-13ec57f78243"
      },
      "execution_count": null,
      "outputs": [
        {
          "output_type": "execute_result",
          "data": {
            "application/vnd.google.colaboratory.intrinsic+json": {
              "type": "string"
            },
            "text/plain": [
              "'Digital Fortress'"
            ]
          },
          "metadata": {},
          "execution_count": 17
        }
      ]
    },
    {
      "cell_type": "markdown",
      "source": [
        "### Dictionaries\n",
        "\n",
        "every value have unique key"
      ],
      "metadata": {
        "id": "gKwBWerKz5oy"
      }
    },
    {
      "cell_type": "code",
      "source": [
        "dog_dict = {'name': 'Freddie',\n",
        "            'age': 9,\n",
        "            'is_vaccinated': True,\n",
        "            'height': 1.1,\n",
        "            'birth_year':2001,\n",
        "            'belongings': ['bone','little ball']\n",
        "            }"
      ],
      "metadata": {
        "id": "qLWccnGZLI4h"
      },
      "execution_count": null,
      "outputs": []
    },
    {
      "cell_type": "code",
      "source": [
        "dog_dict"
      ],
      "metadata": {
        "colab": {
          "base_uri": "https://localhost:8080/"
        },
        "id": "ZV9EWGapLzqx",
        "outputId": "5874dcb8-40ba-4cde-9745-ca0d8cdbc9ab"
      },
      "execution_count": null,
      "outputs": [
        {
          "output_type": "execute_result",
          "data": {
            "text/plain": [
              "{'age': 9,\n",
              " 'belongings': ['bone', 'little ball'],\n",
              " 'birth_year': 2001,\n",
              " 'height': 1.1,\n",
              " 'is_vaccinated': True,\n",
              " 'name': 'Freddie'}"
            ]
          },
          "metadata": {},
          "execution_count": 3
        }
      ]
    },
    {
      "cell_type": "markdown",
      "source": [
        "access specific element of dictionary"
      ],
      "metadata": {
        "id": "2rATKTTRL8FG"
      }
    },
    {
      "cell_type": "code",
      "source": [
        "dog_dict['age']\n"
      ],
      "metadata": {
        "colab": {
          "base_uri": "https://localhost:8080/"
        },
        "id": "2jAKpBt3M9P-",
        "outputId": "3e0101c8-64dc-4d04-dfe7-28413768b130"
      },
      "execution_count": null,
      "outputs": [
        {
          "output_type": "execute_result",
          "data": {
            "text/plain": [
              "9"
            ]
          },
          "metadata": {},
          "execution_count": 6
        }
      ]
    },
    {
      "cell_type": "markdown",
      "source": [
        "# Test yourself!"
      ],
      "metadata": {
        "id": "pqwiJgLHNl5q"
      }
    },
    {
      "cell_type": "code",
      "source": [
        "test = [{'Arizona': 'Phoenix', 'California': 'Sacramento', 'Hawaii': 'Honolulu'},\n",
        "1000,\n",
        "2000,\n",
        "3000,\n",
        "['hat', 't-shirt', 'jeans', {'socks1': 'red', 'socks2': 'blue'}]]"
      ],
      "metadata": {
        "id": "MIQVEvi_NlLh"
      },
      "execution_count": null,
      "outputs": []
    },
    {
      "cell_type": "code",
      "source": [
        "test"
      ],
      "metadata": {
        "colab": {
          "base_uri": "https://localhost:8080/"
        },
        "id": "bP58Dz8oO1oe",
        "outputId": "92df848c-e829-4822-d4c0-61c25f614259"
      },
      "execution_count": null,
      "outputs": [
        {
          "output_type": "execute_result",
          "data": {
            "text/plain": [
              "[{'Arizona': 'Phoenix', 'California': 'Sacramento', 'Hawaii': 'Honolulu'},\n",
              " 1000,\n",
              " 2000,\n",
              " 3000,\n",
              " ['hat', 't-shirt', 'jeans', {'socks1': 'red', 'socks2': 'blue'}]]"
            ]
          },
          "metadata": {},
          "execution_count": 11
        }
      ]
    },
    {
      "cell_type": "markdown",
      "source": [
        "Exercise #1: Return 2000 on your screen!"
      ],
      "metadata": {
        "id": "lt5h-2cmOWgq"
      }
    },
    {
      "cell_type": "code",
      "source": [
        "test[2]"
      ],
      "metadata": {
        "colab": {
          "base_uri": "https://localhost:8080/"
        },
        "id": "g-W_bYcnPAnC",
        "outputId": "730ad618-ba77-4900-9b3a-3b5f5bf0c915"
      },
      "execution_count": null,
      "outputs": [
        {
          "output_type": "execute_result",
          "data": {
            "text/plain": [
              "2000"
            ]
          },
          "metadata": {},
          "execution_count": 12
        }
      ]
    },
    {
      "cell_type": "markdown",
      "source": [
        "Exercise #2: Return the dictionary of the cities and states on your screen! (This: {'Arizona': 'Phoenix', 'California': 'Sacramento', 'Hawaii': 'Honolulu'})"
      ],
      "metadata": {
        "id": "TW4Th0BPOe8K"
      }
    },
    {
      "cell_type": "code",
      "source": [
        "test[0]"
      ],
      "metadata": {
        "colab": {
          "base_uri": "https://localhost:8080/"
        },
        "id": "s_FZFzCzPPy9",
        "outputId": "6c38e71e-ec1e-4f9d-8b7c-7490698b846a"
      },
      "execution_count": null,
      "outputs": [
        {
          "output_type": "execute_result",
          "data": {
            "text/plain": [
              "{'Arizona': 'Phoenix', 'California': 'Sacramento', 'Hawaii': 'Honolulu'}"
            ]
          },
          "metadata": {},
          "execution_count": 13
        }
      ]
    },
    {
      "cell_type": "markdown",
      "source": [
        "Exercise #3: Return the list of the clothes on your screen! (This: ['hat', 't-shirt', 'jeans', {'socks1': 'red', 'socks2': 'blue'}])"
      ],
      "metadata": {
        "id": "pVHYRCxEOi3i"
      }
    },
    {
      "cell_type": "code",
      "source": [
        "test[4]"
      ],
      "metadata": {
        "colab": {
          "base_uri": "https://localhost:8080/"
        },
        "id": "brzPnE_9PXdQ",
        "outputId": "79e85e26-8c13-47c6-c8e0-8de9a78b2b6d"
      },
      "execution_count": null,
      "outputs": [
        {
          "output_type": "execute_result",
          "data": {
            "text/plain": [
              "['hat', 't-shirt', 'jeans', {'socks1': 'red', 'socks2': 'blue'}]"
            ]
          },
          "metadata": {},
          "execution_count": 14
        }
      ]
    },
    {
      "cell_type": "markdown",
      "source": [
        "Exercise #4: Return the word 'Phoenix' on your screen!"
      ],
      "metadata": {
        "id": "tvh2YTBOOmlK"
      }
    },
    {
      "cell_type": "code",
      "source": [
        "test[0]['Arizona']"
      ],
      "metadata": {
        "colab": {
          "base_uri": "https://localhost:8080/",
          "height": 35
        },
        "id": "1tDtdXr0Pe8R",
        "outputId": "1eaf0f3d-9341-4f8e-8096-b8d6957c36a4"
      },
      "execution_count": null,
      "outputs": [
        {
          "output_type": "execute_result",
          "data": {
            "application/vnd.google.colaboratory.intrinsic+json": {
              "type": "string"
            },
            "text/plain": [
              "'Phoenix'"
            ]
          },
          "metadata": {},
          "execution_count": 15
        }
      ]
    },
    {
      "cell_type": "markdown",
      "source": [
        "Exercise #5: return the word 'jeans' on your screen!"
      ],
      "metadata": {
        "id": "XCAqcOflOoir"
      }
    },
    {
      "cell_type": "code",
      "source": [
        "test[4][2]"
      ],
      "metadata": {
        "colab": {
          "base_uri": "https://localhost:8080/",
          "height": 35
        },
        "id": "loRJvyj4Ppf1",
        "outputId": "40cdc208-787b-4acc-cbf5-f9895e918a22"
      },
      "execution_count": null,
      "outputs": [
        {
          "output_type": "execute_result",
          "data": {
            "application/vnd.google.colaboratory.intrinsic+json": {
              "type": "string"
            },
            "text/plain": [
              "'jeans'"
            ]
          },
          "metadata": {},
          "execution_count": 16
        }
      ]
    },
    {
      "cell_type": "markdown",
      "source": [
        "Exercise #6: Return the word 'blue' on your screen!"
      ],
      "metadata": {
        "id": "kLczpRXrOqdv"
      }
    },
    {
      "cell_type": "code",
      "source": [
        "test[4][3]['socks2']"
      ],
      "metadata": {
        "colab": {
          "base_uri": "https://localhost:8080/",
          "height": 35
        },
        "id": "uoYskb2cPv0c",
        "outputId": "8b6a60ee-3bd8-4d6f-e402-992eb07aec7d"
      },
      "execution_count": null,
      "outputs": [
        {
          "output_type": "execute_result",
          "data": {
            "application/vnd.google.colaboratory.intrinsic+json": {
              "type": "string"
            },
            "text/plain": [
              "'blue'"
            ]
          },
          "metadata": {},
          "execution_count": 17
        }
      ]
    }
  ]
}