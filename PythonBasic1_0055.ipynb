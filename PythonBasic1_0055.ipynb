{
  "nbformat": 4,
  "nbformat_minor": 0,
  "metadata": {
    "colab": {
      "name": " PythonBasic1_0055",
      "provenance": [],
      "authorship_tag": "ABX9TyMqEVHd1lx3g9+3c5hQoAEl",
      "include_colab_link": true
    },
    "kernelspec": {
      "name": "python3",
      "display_name": "Python 3"
    },
    "language_info": {
      "name": "python"
    }
  },
  "cells": [
    {
      "cell_type": "markdown",
      "metadata": {
        "id": "view-in-github",
        "colab_type": "text"
      },
      "source": [
        "<a href=\"https://colab.research.google.com/github/thanapotkli007/cs352-264-s0055/blob/main/PythonBasic1_0055.ipynb\" target=\"_parent\"><img src=\"https://colab.research.google.com/assets/colab-badge.svg\" alt=\"Open In Colab\"/></a>"
      ]
    },
    {
      "cell_type": "code",
      "source": [
        "print('Hello, World!')\n",
        "print('This is just nice!')"
      ],
      "metadata": {
        "colab": {
          "base_uri": "https://localhost:8080/"
        },
        "id": "U9R7BqOR2Ayf",
        "outputId": "c911f1c6-1474-46a9-fc04-c85cf0e9de35"
      },
      "execution_count": null,
      "outputs": [
        {
          "output_type": "stream",
          "name": "stdout",
          "text": [
            "Hello, World!\n",
            "This is just nice!\n"
          ]
        }
      ]
    },
    {
      "cell_type": "markdown",
      "source": [
        "## Variables and Data types"
      ],
      "metadata": {
        "id": "ZrzNSap_3Omi"
      }
    },
    {
      "cell_type": "code",
      "source": [
        "dog_name = 'Freddie'\n",
        "age = 9\n",
        "is_vaccinated = True\n",
        "height = 1.1\n",
        "birth_year = 2001"
      ],
      "metadata": {
        "id": "cMmsU3kN2CTn"
      },
      "execution_count": null,
      "outputs": []
    },
    {
      "cell_type": "code",
      "source": [
        "dog_name"
      ],
      "metadata": {
        "colab": {
          "base_uri": "https://localhost:8080/",
          "height": 35
        },
        "id": "j6DR3Kdm2CiF",
        "outputId": "469537c2-cd78-460b-804f-fb19e0095c0b"
      },
      "execution_count": null,
      "outputs": [
        {
          "output_type": "execute_result",
          "data": {
            "application/vnd.google.colaboratory.intrinsic+json": {
              "type": "string"
            },
            "text/plain": [
              "'Freddie'"
            ]
          },
          "metadata": {},
          "execution_count": 8
        }
      ]
    },
    {
      "cell_type": "code",
      "source": [
        "age"
      ],
      "metadata": {
        "colab": {
          "base_uri": "https://localhost:8080/"
        },
        "id": "ad6fy1182wyj",
        "outputId": "89f2667b-1f9c-48fe-f90d-483bcd1b2dcd"
      },
      "execution_count": null,
      "outputs": [
        {
          "output_type": "execute_result",
          "data": {
            "text/plain": [
              "9"
            ]
          },
          "metadata": {},
          "execution_count": 9
        }
      ]
    },
    {
      "cell_type": "code",
      "source": [
        "dog_name = 'Eddie'"
      ],
      "metadata": {
        "id": "Em8slih323yl"
      },
      "execution_count": null,
      "outputs": []
    },
    {
      "cell_type": "code",
      "source": [
        "dog_name"
      ],
      "metadata": {
        "colab": {
          "base_uri": "https://localhost:8080/",
          "height": 35
        },
        "id": "m7sop6se28uU",
        "outputId": "e79a4c08-a3ed-473e-f185-7d822333080d"
      },
      "execution_count": null,
      "outputs": [
        {
          "output_type": "execute_result",
          "data": {
            "application/vnd.google.colaboratory.intrinsic+json": {
              "type": "string"
            },
            "text/plain": [
              "'Eddie'"
            ]
          },
          "metadata": {},
          "execution_count": 11
        }
      ]
    },
    {
      "cell_type": "markdown",
      "source": [
        "## Basic Operators"
      ],
      "metadata": {
        "id": "SqoQeJx-3Goa"
      }
    },
    {
      "cell_type": "code",
      "source": [
        "a=3\n",
        "b=4"
      ],
      "metadata": {
        "id": "MjJ49xQY3Hok"
      },
      "execution_count": null,
      "outputs": []
    },
    {
      "cell_type": "code",
      "source": [
        "a + b"
      ],
      "metadata": {
        "colab": {
          "base_uri": "https://localhost:8080/"
        },
        "id": "pabrRq1hnW8G",
        "outputId": "e6fba254-7b49-4e5c-d214-c3cb0cf96dff"
      },
      "execution_count": null,
      "outputs": [
        {
          "output_type": "execute_result",
          "data": {
            "text/plain": [
              "7"
            ]
          },
          "metadata": {},
          "execution_count": 10
        }
      ]
    },
    {
      "cell_type": "code",
      "source": [
        "a -b"
      ],
      "metadata": {
        "colab": {
          "base_uri": "https://localhost:8080/"
        },
        "id": "7R8JDnu6nYf3",
        "outputId": "0ff862ca-f4dc-447d-a011-37530d4d3732"
      },
      "execution_count": null,
      "outputs": [
        {
          "output_type": "execute_result",
          "data": {
            "text/plain": [
              "-1"
            ]
          },
          "metadata": {},
          "execution_count": 11
        }
      ]
    },
    {
      "cell_type": "code",
      "source": [
        "a *b"
      ],
      "metadata": {
        "colab": {
          "base_uri": "https://localhost:8080/"
        },
        "id": "rTRHAMd4naq9",
        "outputId": "cff3e57d-a112-4b1e-d1f2-19a58478a27f"
      },
      "execution_count": null,
      "outputs": [
        {
          "output_type": "execute_result",
          "data": {
            "text/plain": [
              "12"
            ]
          },
          "metadata": {},
          "execution_count": 12
        }
      ]
    },
    {
      "cell_type": "code",
      "source": [
        "a / b"
      ],
      "metadata": {
        "id": "x4GgOqusncrC"
      },
      "execution_count": null,
      "outputs": []
    },
    {
      "cell_type": "code",
      "source": [
        "b %a"
      ],
      "metadata": {
        "colab": {
          "base_uri": "https://localhost:8080/"
        },
        "id": "IOGfi_Yqnffh",
        "outputId": "2579b08a-12c2-47d7-e698-3258bc0720d2"
      },
      "execution_count": null,
      "outputs": [
        {
          "output_type": "execute_result",
          "data": {
            "text/plain": [
              "1"
            ]
          },
          "metadata": {},
          "execution_count": 8
        }
      ]
    },
    {
      "cell_type": "code",
      "source": [
        "a ** b"
      ],
      "metadata": {
        "colab": {
          "base_uri": "https://localhost:8080/"
        },
        "id": "9YxSVSPPnliX",
        "outputId": "4db1dadd-cfa2-451a-cb8f-7e657a5e5d12"
      },
      "execution_count": null,
      "outputs": [
        {
          "output_type": "execute_result",
          "data": {
            "text/plain": [
              "81"
            ]
          },
          "metadata": {},
          "execution_count": 9
        }
      ]
    },
    {
      "cell_type": "code",
      "source": [
        "a > b"
      ],
      "metadata": {
        "colab": {
          "base_uri": "https://localhost:8080/"
        },
        "id": "QLpXXNREm85m",
        "outputId": "342f72db-be6a-4254-b57e-c390bbe32497"
      },
      "execution_count": null,
      "outputs": [
        {
          "output_type": "execute_result",
          "data": {
            "text/plain": [
              "False"
            ]
          },
          "metadata": {},
          "execution_count": 6
        }
      ]
    },
    {
      "cell_type": "code",
      "source": [
        "a <b"
      ],
      "metadata": {
        "colab": {
          "base_uri": "https://localhost:8080/"
        },
        "id": "rOqDfq9im--g",
        "outputId": "33ce7d4f-7717-44fe-a69d-e7bb77598408"
      },
      "execution_count": null,
      "outputs": [
        {
          "output_type": "execute_result",
          "data": {
            "text/plain": [
              "True"
            ]
          },
          "metadata": {},
          "execution_count": 4
        }
      ]
    },
    {
      "cell_type": "code",
      "source": [
        "a == b"
      ],
      "metadata": {
        "colab": {
          "base_uri": "https://localhost:8080/"
        },
        "id": "I2xoFbYpnAUN",
        "outputId": "549f85da-34e4-4dff-fec9-407eb8a9e516"
      },
      "execution_count": null,
      "outputs": [
        {
          "output_type": "execute_result",
          "data": {
            "text/plain": [
              "False"
            ]
          },
          "metadata": {},
          "execution_count": 5
        }
      ]
    },
    {
      "cell_type": "markdown",
      "source": [
        "## Test yourself #1"
      ],
      "metadata": {
        "id": "0BlBKVTu3bRI"
      }
    },
    {
      "cell_type": "code",
      "execution_count": null,
      "metadata": {
        "id": "E5b4KWF3tnJT"
      },
      "outputs": [],
      "source": [
        "a = 1\n",
        "b = 2 \n",
        "c =3\n",
        "d = True\n",
        "e = 'cool'\n"
      ]
    },
    {
      "cell_type": "code",
      "source": [
        "a == e or d and c > b\n",
        "# or and\n",
        "#false or true and true\n",
        "#true and true\n",
        "#true"
      ],
      "metadata": {
        "colab": {
          "base_uri": "https://localhost:8080/"
        },
        "id": "cqE47CH6080c",
        "outputId": "69403e63-0a2b-4ea3-98e8-f0453604e363"
      },
      "execution_count": null,
      "outputs": [
        {
          "output_type": "execute_result",
          "data": {
            "text/plain": [
              "True"
            ]
          },
          "metadata": {},
          "execution_count": 2
        }
      ]
    },
    {
      "cell_type": "markdown",
      "source": [
        "## Test yourself #2"
      ],
      "metadata": {
        "id": "dotcUGtw3jW2"
      }
    },
    {
      "cell_type": "code",
      "source": [
        "not a == e or d and not c > b \n",
        "#not or and not\n",
        "#not false or true and not true\n",
        "#true or true and false\n",
        "#true or false\n",
        "#true\n"
      ],
      "metadata": {
        "colab": {
          "base_uri": "https://localhost:8080/"
        },
        "id": "KaOcqcUD1Mja",
        "outputId": "ae3c8e87-d6b0-4001-f847-34e247e7a032"
      },
      "execution_count": null,
      "outputs": [
        {
          "output_type": "execute_result",
          "data": {
            "text/plain": [
              "True"
            ]
          },
          "metadata": {},
          "execution_count": 15
        }
      ]
    }
  ]
}